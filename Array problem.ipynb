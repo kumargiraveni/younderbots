{
  "cells": [
    {
      "cell_type": "code",
      "source": [
        "def Subset(arr, n, sum):\n",
        "\n",
        "    dp = [[False for _ in range(sum + 1)] for _ in range(n + 1)]\n",
        "\n",
        "\n",
        "    for i in range(n + 1):\n",
        "        dp[i][0] = True\n",
        "\n",
        "    for i in range(1, n + 1):\n",
        "        for j in range(1, sum + 1):\n",
        "            if arr[i - 1] <= j:\n",
        "                dp[i][j] = dp[i - 1][j] or dp[i - 1][j - arr[i - 1]]\n",
        "            else:\n",
        "                dp[i][j] = dp[i - 1][j]\n",
        "\n",
        "    return dp[n][sum]\n",
        "\n",
        "# Using Example\n",
        "arr = [3, 34, 4, 12, 5, 2]\n",
        "sum_val = 9\n",
        "n = len(arr)\n",
        "print(Subset(arr, n, sum_val))\n",
        "\n",
        "sum_val = 30\n",
        "print(Subset(arr, n, sum_val))\n"
      ],
      "metadata": {
        "colab": {
          "base_uri": "https://localhost:8080/"
        },
        "id": "IQBYXuvAXYtB",
        "outputId": "88aa25fb-d5d0-485f-9513-5aef44aca160"
      },
      "execution_count": 35,
      "outputs": [
        {
          "output_type": "stream",
          "name": "stdout",
          "text": [
            "True\n",
            "False\n"
          ]
        }
      ]
    }
  ],
  "metadata": {
    "colab": {
      "name": "Welcome To Colab",
      "toc_visible": true,
      "provenance": []
    },
    "kernelspec": {
      "display_name": "Python 3",
      "name": "python3"
    }
  },
  "nbformat": 4,
  "nbformat_minor": 0
}