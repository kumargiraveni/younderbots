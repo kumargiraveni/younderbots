{
  "cells": [
    {
      "cell_type": "code",
      "source": [
        "# 2.string problem\n",
        "import re\n",
        "\n",
        "def repeat_letters(input_str):\n",
        "    result = \"\"\n",
        "    pattern = re.compile(r'([a-zA-Z])(\\d+)')\n",
        "\n",
        "    matches = pattern.findall(input_str)\n",
        "\n",
        "    for letter, num in matches:\n",
        "        result += letter * int(num)\n",
        "\n",
        "    return result\n",
        "\n",
        "# Test cases\n",
        "input_str1 = \"a1b10\"\n",
        "input_str2 = \"b3c6d15\"\n",
        "\n",
        "print(repeat_letters(input_str1))\n",
        "print(repeat_letters(input_str2))\n"
      ],
      "metadata": {
        "colab": {
          "base_uri": "https://localhost:8080/"
        },
        "id": "IQBYXuvAXYtB",
        "outputId": "a318b8d0-7308-4b85-a5e4-767f294b0b70"
      },
      "execution_count": 36,
      "outputs": [
        {
          "output_type": "stream",
          "name": "stdout",
          "text": [
            "abbbbbbbbbb\n",
            "bbbccccccddddddddddddddd\n"
          ]
        }
      ]
    }
  ],
  "metadata": {
    "colab": {
      "name": "Welcome To Colab",
      "toc_visible": true,
      "provenance": []
    },
    "kernelspec": {
      "display_name": "Python 3",
      "name": "python3"
    }
  },
  "nbformat": 4,
  "nbformat_minor": 0
}