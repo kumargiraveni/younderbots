{
  "cells": [
    {
      "cell_type": "code",
      "source": [
        "# 5. Problem Statement: Sort Array with Odd in Ascending and Even in Descending Order\n",
        "def descending(arr):\n",
        "    odd_numbers = [num for num in arr if num % 2 != 0]\n",
        "    even_numbers = [num for num in arr if num % 2 == 0]\n",
        "\n",
        "    odd_numbers.sort()\n",
        "    even_numbers.sort(reverse=True)\n",
        "\n",
        "    odd_index = 0\n",
        "    even_index = 0\n",
        "    result = []\n",
        "\n",
        "    for num in arr:\n",
        "        if num % 2 != 0:\n",
        "            result.append(odd_numbers[odd_index])\n",
        "            odd_index += 1\n",
        "        else:\n",
        "            result.append(even_numbers[even_index])\n",
        "            even_index += 1\n",
        "\n",
        "    return result\n",
        "\n",
        "# Example usage:\n",
        "arr1 = [5, 8, 11, 6, 2, 1, 7]\n",
        "arr2 = [9, 4, 3, 10, 15, 2]\n",
        "\n",
        "# Output the results\n",
        "print(\"Sorted Array 1:\", descending(arr1))\n",
        "print(\"Sorted Array 2:\", descending(arr2))"
      ],
      "metadata": {
        "colab": {
          "base_uri": "https://localhost:8080/"
        },
        "id": "IQBYXuvAXYtB",
        "outputId": "931ef738-d77e-46b8-c681-e1eeb6f635ca"
      },
      "execution_count": 39,
      "outputs": [
        {
          "output_type": "stream",
          "name": "stdout",
          "text": [
            "Sorted Array 1: [1, 8, 5, 6, 2, 7, 11]\n",
            "Sorted Array 2: [3, 10, 9, 4, 15, 2]\n"
          ]
        }
      ]
    }
  ],
  "metadata": {
    "colab": {
      "name": "Welcome To Colab",
      "toc_visible": true,
      "provenance": []
    },
    "kernelspec": {
      "display_name": "Python 3",
      "name": "python3"
    }
  },
  "nbformat": 4,
  "nbformat_minor": 0
}