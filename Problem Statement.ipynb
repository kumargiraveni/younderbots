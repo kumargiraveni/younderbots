{
  "cells": [
    {
      "cell_type": "code",
      "source": [
        "# 4. problem statement\n",
        "def subarray(arr, K):\n",
        "\n",
        "    left = 0\n",
        "    current_sum = 0\n",
        "    max_length = 0\n",
        "\n",
        "    for right in range(len(arr)):\n",
        "        current_sum += arr[right]\n",
        "\n",
        "        while current_sum > K:\n",
        "            current_sum -= arr[left]\n",
        "            left += 1\n",
        "\n",
        "\n",
        "        max_length = max(max_length, right - left + 1)\n",
        "\n",
        "    return max_length\n",
        "\n",
        "#using examples\n",
        "arr = [3, 1, 2, 1, 4, 5]\n",
        "K = 7\n",
        "print(subarray(arr, K))"
      ],
      "metadata": {
        "colab": {
          "base_uri": "https://localhost:8080/"
        },
        "id": "IQBYXuvAXYtB",
        "outputId": "97adb5a4-019a-4eb1-cc3a-2a243d8b82a1"
      },
      "execution_count": 38,
      "outputs": [
        {
          "output_type": "stream",
          "name": "stdout",
          "text": [
            "4\n"
          ]
        }
      ]
    }
  ],
  "metadata": {
    "colab": {
      "name": "Welcome To Colab",
      "toc_visible": true,
      "provenance": []
    },
    "kernelspec": {
      "display_name": "Python 3",
      "name": "python3"
    }
  },
  "nbformat": 4,
  "nbformat_minor": 0
}