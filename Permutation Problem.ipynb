{
  "cells": [
    {
      "cell_type": "code",
      "source": [
        "# 3.Permutations\n",
        "\n",
        "import itertools\n",
        "\n",
        "def permutations(nums):\n",
        "    all_permutations = itertools.permutations(nums)\n",
        "\n",
        "    unique_permutations = set(all_permutations)\n",
        "\n",
        "    return [list(p) for p in unique_permutations]\n",
        "\n",
        "# using example\n",
        "nums1 = [1, 1, 2]\n",
        "nums2 = [1, 2, 3]\n",
        "\n",
        "print(permutations(nums1))\n",
        "print(permutations(nums2))"
      ],
      "metadata": {
        "colab": {
          "base_uri": "https://localhost:8080/"
        },
        "id": "IQBYXuvAXYtB",
        "outputId": "b4514c06-35a4-4bb5-902a-d2400cd84cc4"
      },
      "execution_count": 37,
      "outputs": [
        {
          "output_type": "stream",
          "name": "stdout",
          "text": [
            "[[1, 2, 1], [2, 1, 1], [1, 1, 2]]\n",
            "[[1, 3, 2], [1, 2, 3], [2, 1, 3], [3, 2, 1], [3, 1, 2], [2, 3, 1]]\n"
          ]
        }
      ]
    }
  ],
  "metadata": {
    "colab": {
      "name": "Welcome To Colab",
      "toc_visible": true,
      "provenance": []
    },
    "kernelspec": {
      "display_name": "Python 3",
      "name": "python3"
    }
  },
  "nbformat": 4,
  "nbformat_minor": 0
}